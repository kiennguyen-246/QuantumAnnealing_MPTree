{
 "cells": [
  {
   "cell_type": "code",
   "execution_count": 2,
   "id": "a38811bb-0431-4521-a448-965e7102eda8",
   "metadata": {},
   "outputs": [],
   "source": [
    "import os"
   ]
  },
  {
   "cell_type": "code",
   "execution_count": 3,
   "id": "0586a47a-b942-4e69-9f44-ee98145af721",
   "metadata": {
    "scrolled": true,
    "tags": []
   },
   "outputs": [
    {
     "data": {
      "text/plain": [
       "['.ipynb_checkpoints',\n",
       " 'dna_M10243_203_1771.phy',\n",
       " 'dna_M10434_544_5681.phy',\n",
       " 'dna_M10467_202_4074.phy',\n",
       " 'dna_M10933_229_2696.phy',\n",
       " 'dna_M1110_330_1711.phy',\n",
       " 'dna_M11113_344_9778.phy',\n",
       " 'dna_M11745_316_1494.phy',\n",
       " 'dna_M11762_208_2468.phy',\n",
       " 'dna_M12051_699_6914.phy',\n",
       " 'dna_M12098_231_4108.phy',\n",
       " 'dna_M1224_210_8235.phy',\n",
       " 'dna_M12388_324_1405.phy',\n",
       " 'dna_M13718_235_2309.phy',\n",
       " 'dna_M14164_204_5549.phy',\n",
       " 'dna_M14165_204_5611.phy',\n",
       " 'dna_M14582_372_61199.phy',\n",
       " 'dna_M14678_225_2673.phy',\n",
       " 'dna_M1838_228_1131.phy',\n",
       " 'dna_M214_295_1836.phy',\n",
       " 'dna_M2307_318_1434.phy',\n",
       " 'dna_M2534_207_976.phy',\n",
       " 'dna_M2902_220_1117.phy',\n",
       " 'dna_M2931_229_4722.phy',\n",
       " 'dna_M3031_276_1518.phy',\n",
       " 'dna_M3198_216_2578.phy',\n",
       " 'dna_M3514_217_3665.phy',\n",
       " 'dna_M3605_260_5315.phy',\n",
       " 'dna_M3777_363_1707.phy',\n",
       " 'dna_M4170_258_2559.phy',\n",
       " 'dna_M4324_206_4543.phy',\n",
       " 'dna_M4326_227_4055.phy',\n",
       " 'dna_M4399_205_8913.phy',\n",
       " 'dna_M4720_201_2899.phy',\n",
       " 'dna_M4727_350_6464.phy',\n",
       " 'dna_M4794_204_12113.phy',\n",
       " 'dna_M4806_222_3995.phy',\n",
       " 'dna_M4850_328_2166.phy',\n",
       " 'dna_M4900_206_3074.phy',\n",
       " 'dna_M4927_268_1275.phy',\n",
       " 'dna_M4938_213_1250.phy',\n",
       " 'dna_M5078_265_9768.phy',\n",
       " 'dna_M5235_298_11596.phy',\n",
       " 'dna_M5381_413_3632.phy',\n",
       " 'dna_M5731_242_9626.phy',\n",
       " 'dna_M5931_298_4948.phy',\n",
       " 'dna_M6134_219_5158.phy',\n",
       " 'dna_M6414_209_2000.phy',\n",
       " 'dna_M6625_247_1812.phy',\n",
       " 'dna_M667_218_1002.phy',\n",
       " 'dna_M7024_767_5814.phy',\n",
       " 'dna_M7054_222_6237.phy',\n",
       " 'dna_M7165_357_4475.phy',\n",
       " 'dna_M7210_204_1701.phy',\n",
       " 'dna_M7211_201_1519.phy',\n",
       " 'dna_M7292_213_7572.phy',\n",
       " 'dna_M7929_428_15016.phy',\n",
       " 'dna_M7964_640_25260.phy',\n",
       " 'dna_M8012_213_2333.phy',\n",
       " 'dna_M8385_212_19972.phy',\n",
       " 'dna_M8619_246_11829.phy',\n",
       " 'dna_M8692_395_3583.phy',\n",
       " 'dna_M8703_215_1038.phy',\n",
       " 'dna_M8975_405_3027.phy',\n",
       " 'dna_M8982_297_6954.phy',\n",
       " 'dna_M8984_201_3931.phy',\n",
       " 'dna_M9033_300_1394.phy',\n",
       " 'dna_M9142_235_1854.phy',\n",
       " 'dna_M9143_228_1223.phy',\n",
       " 'dna_M980_249_1604.phy',\n",
       " 'dna_M9915_504_2757.phy',\n",
       " 'prot_M10236_59_164.phy',\n",
       " 'prot_M10273_169_11009.phy',\n",
       " 'prot_M10372_169_22426.phy',\n",
       " 'prot_M10866_88_3329.phy',\n",
       " 'prot_M11012_55_11500.phy',\n",
       " 'prot_M11013_55_8741.phy',\n",
       " 'prot_M1118_137_348.phy',\n",
       " 'prot_M11335_99_696.phy',\n",
       " 'prot_M11336_95_268.phy',\n",
       " 'prot_M11338_100_567.phy',\n",
       " 'prot_M11341_100_699.phy',\n",
       " 'prot_M11342_91_323.phy',\n",
       " 'prot_M11344_84_691.phy',\n",
       " 'prot_M11595_66_463.phy',\n",
       " 'prot_M11596_62_439.phy',\n",
       " 'prot_M11740_138_4427.phy',\n",
       " 'prot_M12103_97_199.phy',\n",
       " 'prot_M12104_93_349.phy',\n",
       " 'prot_M12376_116_327.phy',\n",
       " 'prot_M13804_78_1889.phy',\n",
       " 'prot_M1726_50_1000.phy',\n",
       " 'prot_M2358_55_714.phy',\n",
       " 'prot_M2593_56_386.phy',\n",
       " 'prot_M2926_105_899.phy',\n",
       " 'prot_M3113_77_9918.phy',\n",
       " 'prot_M3114_77_11234.phy',\n",
       " 'prot_M3807_82_591.phy',\n",
       " 'prot_M3810_55_271.phy',\n",
       " 'prot_M4249_153_455.phy',\n",
       " 'prot_M4318_78_2295.phy',\n",
       " 'prot_M4325_73_230.phy',\n",
       " 'prot_M4539_59_12428.phy',\n",
       " 'prot_M4780_90_583.phy',\n",
       " 'prot_M4860_62_11544.phy',\n",
       " 'prot_M4884_50_11827.phy',\n",
       " 'prot_M510_57_430.phy',\n",
       " 'prot_M5379_60_7776.phy',\n",
       " 'prot_M6416_57_126.phy',\n",
       " 'prot_M7078_77_12457.phy',\n",
       " 'prot_M7729_62_2973.phy',\n",
       " 'prot_M8175_194_665.phy',\n",
       " 'prot_M8461_89_5699.phy',\n",
       " 'prot_M8569_164_383_edited.phy',\n",
       " 'prot_M8630_50_21154.phy',\n",
       " 'prot_M9973_60_327.phy',\n",
       " 'Untitled.ipynb']"
      ]
     },
     "execution_count": 3,
     "metadata": {},
     "output_type": "execute_result"
    }
   ],
   "source": [
    "os.listdir()"
   ]
  },
  {
   "cell_type": "code",
   "execution_count": 40,
   "id": "494aa368-a7e8-4cdc-9632-059754a564c6",
   "metadata": {},
   "outputs": [],
   "source": [
    "data = []\n",
    "with open('prot_M6416_57_126.phy', 'r') as file:\n",
    "    lines = file.readlines()\n",
    "    for line in lines:\n",
    "        line = line.strip()\n",
    "        line = line.split()\n",
    "        data.append(line)"
   ]
  },
  {
   "cell_type": "code",
   "execution_count": 43,
   "id": "2301fce0-2705-4fc8-8901-417527045e05",
   "metadata": {},
   "outputs": [
    {
     "data": {
      "text/plain": [
       "['Aspidelaps_scutatus_P07037',\n",
       " 'NLYQFKNMIQCTVP-NRSWWHFADYGCFCGYGGSGTPVDELDRCCQTHDNCYSEAEKLSGCKP-----YIKTYSYDCS-QGKLTCSGNDDKCAAFVCNCDRVAAICFAGAPYIDDNYNVDLNERCQ']"
      ]
     },
     "execution_count": 43,
     "metadata": {},
     "output_type": "execute_result"
    }
   ],
   "source": [
    "data[2]"
   ]
  },
  {
   "cell_type": "code",
   "execution_count": 32,
   "id": "09ebd9df-620a-4286-9368-fd02242e3c1a",
   "metadata": {},
   "outputs": [],
   "source": [
    "import pandas as pd\n",
    "pd.set_option('display.max_columns', None,\n",
    "             'display.max_colwidth', None)"
   ]
  },
  {
   "cell_type": "code",
   "execution_count": 34,
   "id": "9282c6e2-a9c8-4a95-af17-88ab58ad3285",
   "metadata": {
    "scrolled": true,
    "tags": []
   },
   "outputs": [],
   "source": [
    "dt_dict = dict(data[1:])\n",
    "# dt_dict"
   ]
  },
  {
   "cell_type": "code",
   "execution_count": 35,
   "id": "ce8d1fc2-dbb7-4e1a-acbb-dd2acabac75c",
   "metadata": {},
   "outputs": [],
   "source": [
    "df = pd.DataFrame(list(dt_dict.items()), columns=['name', 'seq'])"
   ]
  },
  {
   "cell_type": "code",
   "execution_count": 39,
   "id": "076c1843-8367-4aba-9129-bdbdd4bb3f28",
   "metadata": {},
   "outputs": [
    {
     "name": "stdout",
     "output_type": "stream",
     "text": [
      "203\n"
     ]
    }
   ],
   "source": [
    "count = 0\n",
    "for item in df['seq'].tolist():\n",
    "    if len(item) == len(data[2][1]):\n",
    "        count+=1\n",
    "print(count)"
   ]
  }
 ],
 "metadata": {
  "kernelspec": {
   "display_name": "Python 3 (ipykernel)",
   "language": "python",
   "name": "python3"
  },
  "language_info": {
   "codemirror_mode": {
    "name": "ipython",
    "version": 3
   },
   "file_extension": ".py",
   "mimetype": "text/x-python",
   "name": "python",
   "nbconvert_exporter": "python",
   "pygments_lexer": "ipython3",
   "version": "3.10.9"
  }
 },
 "nbformat": 4,
 "nbformat_minor": 5
}
